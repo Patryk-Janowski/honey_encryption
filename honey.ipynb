{
 "cells": [
  {
   "cell_type": "markdown",
   "metadata": {},
   "source": [
    "# Honeyword Encryption fdasf"
   ]
  },
  {
   "cell_type": "markdown",
   "metadata": {},
   "source": [
    "**Plan projektu:**\n",
    "\n",
    "1. historia dobrze wykorzystanej przynęty\n",
    "2. wstępne informacje o temacie\n",
    "3. implementacja w menagera haseł"
   ]
  },
  {
   "cell_type": "markdown",
   "metadata": {},
   "source": [
    "### 1. Operacja Micemeat\n",
    "\n",
    "30 kwietnia 1943 roku na hiszpańskim wybrzeżu zostało znalezione ciało majora Royal Marines przez tamtejszego rybaka. Pomimo neutralności Hiszpanii w okolicy znajdował się niemiecki posterunek, którego agent zainteresował się wrogimi zwłokami. Zmarły posiadał przy sobie dokumenty, które okazały się dla niezwykle cenne dla Abwehry - zawierały informacje o planowanej dużej inwazji aliantów na **Grecję**. Niemcy przypuszczali wystąpienie inwazji, ale brakowało im informacji o miejscu. Przechowony list skutkwał rozkazem Führera, który przemieścił trzy pancerne dywizje na wybrzeża Grecji.\n",
    "\n",
    "<details>\n",
    "<br>\n",
    "Inwazja została przeprowadzona na Sycylię. Znaleziony major nigdy nie istniał, jego tożsamość została stworzona na potrzeby operacji przez brytyjski wywiad. Oczywiście celem było wprowadzenie wroga w błąd.\n",
    "<br>\n",
    "<br>\n",
    "Podczas fabrykacji żołnierza dołożono wszelkich starań dla zagwarantowania autentyczności - przy jego ciele znajdowały się też zdjęcie abstrakcyjnej narzeczonej, listy niepocieszonego ojca, list wychwalający majora jako eksperta w dziedzinie operacji desantowych, prawdziwe bilety z kina, ale również nota z banku o przekroczeniu stanu konta, niezapłacony rachunek i przepustka, która straciła ważność.\n",
    "<br>\n",
    "Ponadto na łamach dziennika The Times opublikowano nazwisko majora na liście ofiar brytyjskich. Do władz Hiszpanii wysłano ciąg pilnych depesz, w których brytyjczycy upominali się o zwrot dokumentów (z należytym zachowaniem dyskrecji). Dzięki odpowiednim przygotowaniu dokumentów, po ich odesłaniu brytyjscy specjaliści byli w stanie potwierdzić, że zostały one wcześniej otwarte.\n",
    "<br>\n",
    "<br>\n",
    "Powyższe działania pozwoliły na względnie niewielki opór przeciwnika podczas inwazji. Co więcej miały też wpływ na późniejsze operacje - Niemcy przestali wierzyć znajdowanym dokumentom.\n",
    "</details>"
   ]
  },
  {
   "cell_type": "code",
   "execution_count": 54,
   "metadata": {},
   "outputs": [],
   "source": [
    "import random\n",
    "import re\n",
    "import sys\n",
    "from typing import Counter\n",
    "\n",
    "random.seed(10)\n",
    "n = 256 # wielkości przestrzeni seedów"
   ]
  },
  {
   "cell_type": "markdown",
   "metadata": {},
   "source": [
    "# Implementacja oraz jej objaśnienie\n",
    "![](src/honey_mapowanie.png)\n",
    "## Uwagi\n",
    "W tej demonstracji pomijamy etap generowania przestrzeni wiadomości ponieważ jak pisaliśmy wcześniej zagadnienie to wykracza ponad zakres omawianego materiału oraz jest mocno specyficzne dla każdego rodzaju szyfrowanych wiadomości. Tutaj posłużymy sie 100 najpopularniejszymi hasłami i założymy ze szyfrowane hasło jest jednym z listy. W przypadku pełnego honey encryption przestrzeń wiadomości zostałaby wygenerowana dla danej szyfrowanej wiadomości i bezpieczeństwo szyfru byłoby uzależnione od jakości wygenerowanej przestrzeni wiadomości oraz obliczonego prawdopodobieństwa dla każdej z nich. Korzystając z naszego rozwiązania prawdopodobieństwo jest wyznaczane empirycznie z bazy najpopularniejszych haseł więc jest jak praktycznie idealne. Poniżej przedstawione sa funkcje do parsowania bazy wiadomości oraz obliczenia prawdopodobieństwa wystąpienia danego hasła (zakładając ze występują wyłącznie hasła z listy)."
   ]
  },
  {
   "cell_type": "code",
   "execution_count": 55,
   "metadata": {},
   "outputs": [
    {
     "name": "stdout",
     "output_type": "stream",
     "text": [
      "Lista (hasło, prawdopodobieństwo wystąpienia)\n",
      " [('123456', 0.16876664151602264), ('123456789', 0.08234487145110903), ('password', 0.07188386638148746), ('adobe123', 0.04399471212905398), ('12345678', 0.04189972583719427), ('qwerty', 0.027194289764519302), ('1234567', 0.02582680144086169), ('111111', 0.023671536745922372), ('photoshop', 0.017337523721630176), ('123123', 0.017188490566429918), ('1234567890', 0.015986248209835355), ('000000', 0.015835760058698693), ('abc123', 0.014714373904855737), ('1234', 0.012773409325692526), ('adobe1', 0.011794612773617182), ('macromedia', 0.011359568988632324), ('azerty', 0.010153793070477925), ('iloveyou', 0.009798774061995297), ('aaaaaa', 0.009204096437130665), ('654321', 0.009077096077538812), ('12345', 0.009041136892253394), ('666666', 0.007775290427581735), ('sunshine', 0.007342533064782655), ('123321', 0.007267288989214323), ('letmein', 0.006953217723513358), ('monkey', 0.0067655232477172155), ('asdfgh', 0.006558705968185474), ('password1', 0.005892525685874691), ('shadow', 0.005882964284006893), ('princess', 0.005847420811846161), ('dragon', 0.0057894288309523366), ('adobeadobe', 0.005786726695641871), ('daniel', 0.005761783908160656), ('computer', 0.005757418920351444), ('michael', 0.005698387656645902), ('121212', 0.005692567672900285), ('charlie', 0.005508614615226325), ('master', 0.0052672931463455695), ('superman', 0.005092277920852378), ('qwertyuiop', 0.005065880137434759), ('112233', 0.004867377120396757), ('asdfasdf', 0.004813334414187458), ('jessica', 0.004722293239881023), ('1q2w3e4r', 0.00471252398145088), ('welcome', 0.004615247110274142), ('1qaz2wsx', 0.004610258552777899), ('987654321', 0.004602567859971191), ('fdsa', 0.0045942535974774525), ('753951', 0.004530233776275668), ('chocolate', 0.004458315405704831), ('fuckyou', 0.004444596872590163), ('soccer', 0.004408221974180058), ('tigger', 0.004385773465446965), ('asdasd', 0.0043568814032812235), ('thomas', 0.0042778959095907095), ('asdfghjkl', 0.004277272339903679), ('internet', 0.004275817343967275), ('michelle', 0.0042259317690048455), ('football', 0.0042128368055772076), ('123qwe', 0.004161704091240717), ('zxcvbnm', 0.004137800586571219), ('dreamweaver', 0.004120756348459056), ('7777777', 0.004119301352522651), ('maggie', 0.003998536689801102), ('qazwsx', 0.003976088181068009), ('baseball', 0.003972762476070513), ('jennifer', 0.003942831131093056), ('jordan', 0.003924124040482144), ('abcd1234', 0.00383911070648367), ('trustno1', 0.0037782087337170367), ('buster', 0.003763866630915338), ('555555', 0.0037516030937370737), ('liverpool', 0.003743080974680992), ('abc', 0.003738508130309436), ('whatever', 0.003727491732505233), ('11111111', 0.0036825947150390457), ('102030', 0.003680308292853268), ('123123123', 0.0036543262225603355), ('andrea', 0.0036279284391427164), ('pepper', 0.003625434160394595), ('nicole', 0.00359508710229245), ('killer', 0.003569728601686548), ('abcdef', 0.0035495665151392326), ('hannah', 0.0035258708670320785), ('test', 0.003512360190479754), ('alexander', 0.0034537446398988985), ('andrew', 0.0034369082583490785), ('222222', 0.003435037549287987), ('joshua', 0.003422981868672067), ('freedom', 0.0034204875899239455), ('samsung', 0.003403443351811782), ('asdfghj', 0.0033624956090301207), ('purple', 0.003344619944668583), ('ginger', 0.003340878526546401), ('123654', 0.003317806448126277), ('matrix', 0.0033069979068844173), ('secret', 0.0032847572547136674), ('summer', 0.0032816394062785154), ('1q2w3e', 0.003274156570034151), ('snoopy1', 0.003250253065364653)]\n"
     ]
    }
   ],
   "source": [
    "\n",
    "def parse_passwd_list(path):\n",
    "    p_list = list()\n",
    "    count_pattern = re.compile(r'\\.\\s+(\\d+)')\n",
    "    password_pattern = re.compile(r'\\b\\w+$')\n",
    "    total_count = 0\n",
    "\n",
    "    with open(path) as f:\n",
    "        for line in f.readlines():\n",
    "        \n",
    "            count = count_pattern.search(line)\n",
    "            passwd = password_pattern.search(line)\n",
    "\n",
    "            if passwd and count:\n",
    "                count = int(count.group(1))\n",
    "                p_list.append([passwd.group(), count])\n",
    "                total_count += count\n",
    "    \n",
    "    return p_list, total_count\n",
    "\n",
    "\n",
    "def get_prob_list(p_list, total_count):\n",
    "    return [(passwd, count/total_count) for passwd, count in p_list]\n",
    "\n",
    "p_list, total_count = parse_passwd_list('common_passwords.txt')\n",
    "prob_list = get_prob_list(p_list, total_count)\n",
    "print('Lista (hasło, prawdopodobieństwo wystąpienia)\\n', prob_list)\n",
    "\n"
   ]
  },
  {
   "cell_type": "markdown",
   "metadata": {},
   "source": [
    "### Funkcja `get_numbered_list(prob_list, n)` \n",
    "Oblicza do ilu seed'ów będzie mapowana dana wiadomość na podstawie wielkości przestrzeni seedów oraz prawdopodobieństwa wystąpienia danej wiadomości, zwraca posortowana listę"
   ]
  },
  {
   "cell_type": "code",
   "execution_count": 56,
   "metadata": {},
   "outputs": [
    {
     "name": "stdout",
     "output_type": "stream",
     "text": [
      "Lista hasło, do ilu seedów jest mapowane)\n",
      " [['123456', 43], ['123456789', 21], ['password', 18], ['adobe123', 11], ['12345678', 11], ['qwerty', 7], ['1234567', 7], ['111111', 6], ['photoshop', 4], ['123123', 4], ['1234567890', 4], ['000000', 4], ['abc123', 4], ['1234', 3], ['adobe1', 3], ['macromedia', 3], ['azerty', 3], ['iloveyou', 3], ['aaaaaa', 2], ['654321', 2], ['12345', 2], ['666666', 2], ['sunshine', 2], ['123321', 2], ['letmein', 2], ['monkey', 2], ['asdfgh', 2], ['password1', 2], ['shadow', 2], ['secret', 2], ['summer', 2], ['1q2w3e', 2], ['snoopy1', 2], ['princess', 1], ['dragon', 1], ['adobeadobe', 1], ['daniel', 1], ['computer', 1], ['michael', 1], ['121212', 1], ['charlie', 1], ['master', 1], ['superman', 1], ['qwertyuiop', 1], ['112233', 1], ['asdfasdf', 1], ['jessica', 1], ['1q2w3e4r', 1], ['welcome', 1], ['1qaz2wsx', 1], ['987654321', 1], ['fdsa', 1], ['753951', 1], ['chocolate', 1], ['fuckyou', 1], ['soccer', 1], ['tigger', 1], ['asdasd', 1], ['thomas', 1], ['asdfghjkl', 1], ['internet', 1], ['michelle', 1], ['football', 1], ['123qwe', 1], ['zxcvbnm', 1], ['dreamweaver', 1], ['7777777', 1], ['maggie', 1], ['qazwsx', 1], ['baseball', 1], ['jennifer', 1], ['jordan', 1], ['abcd1234', 1], ['trustno1', 1], ['buster', 1], ['555555', 1], ['liverpool', 1], ['abc', 1], ['whatever', 1], ['11111111', 1], ['102030', 1], ['123123123', 1], ['andrea', 1], ['pepper', 1], ['nicole', 1], ['killer', 1], ['abcdef', 1], ['hannah', 1], ['test', 1], ['alexander', 1], ['andrew', 1], ['222222', 1], ['joshua', 1], ['freedom', 1], ['samsung', 1], ['asdfghj', 1], ['purple', 1], ['ginger', 1], ['123654', 1], ['matrix', 1]]\n"
     ]
    }
   ],
   "source": [
    "\n",
    "def get_numbererd_list(prob_list, n):\n",
    "    n_list = [[passwd, round(prob * n)] for passwd, prob in prob_list]\n",
    "    n_list = sorted(n_list, key=lambda x: x[1], reverse=True)\n",
    "    s = sum(map(lambda x: x[1], n_list))\n",
    "\n",
    "    diff = s - n\n",
    "    l = len(n_list)\n",
    "\n",
    "    if diff > 0:\n",
    "        for i in range(diff):\n",
    "            n_list[i][1] -= 1\n",
    "    elif diff < 0:\n",
    "        for i in range(abs(diff)):\n",
    "            n_list[l-i-1][1] += 1\n",
    "\n",
    "    return sorted(n_list, key=lambda x: x[1], reverse=True)\n",
    "\n",
    "n_list = get_numbererd_list(prob_list, n)\n",
    "\n",
    "print('Lista hasło, do ilu seedów jest mapowane)\\n', n_list)\n",
    "\n"
   ]
  },
  {
   "cell_type": "markdown",
   "metadata": {},
   "source": [
    "### Funkcja `get_mapping_message_to_seed(n_list, n)`\n",
    "Zwraca mapowanie wiadomości do poszczególnych seedów. tutaj posłużyliśmy sie przestrzenią 256 seedów każdy z nich można traktować jako jeden bajt."
   ]
  },
  {
   "cell_type": "code",
   "execution_count": 57,
   "metadata": {},
   "outputs": [
    {
     "name": "stdout",
     "output_type": "stream",
     "text": [
      "Lista [hasło, [seedy do których jest mapowane]]\n",
      " [['123456', [156, 130, 191, 213, 15, 134, 227, 138, 47, 165, 246, 160, 91, 252, 73, 46, 141, 166, 32, 2, 26, 205, 144, 50, 39, 204, 131, 100, 102, 249, 135, 7, 151, 171, 224, 235, 199, 82, 29, 76, 184, 216, 27]], ['123456789', [163, 65, 253, 85, 22, 132, 225, 226, 23, 182, 75, 79, 10, 176, 250, 209, 254, 230, 201, 177, 5]], ['password', [94, 223, 31, 119, 37, 14, 251, 239, 25, 101, 242, 217, 200, 78, 129, 189, 54, 87]], ['adobe123', [33, 43, 142, 64, 55, 228, 194, 108, 58, 124, 13]], ['12345678', [237, 195, 143, 6, 146, 161, 104, 0, 4, 117, 12]], ['qwerty', [56, 245, 121, 162, 192, 203, 152]], ['1234567', [148, 74, 180, 53, 17, 51, 178]], ['111111', [59, 86, 219, 21, 181, 236]], ['photoshop', [150, 187, 66, 69]], ['123123', [183, 126, 99, 186]], ['1234567890', [103, 159, 222, 174]], ['000000', [158, 81, 84, 248]], ['abc123', [139, 206, 185, 193]], ['1234', [188, 88, 122]], ['adobe1', [229, 231, 164]], ['macromedia', [179, 214, 68]], ['azerty', [30, 45, 240]], ['iloveyou', [36, 70, 62]], ['aaaaaa', [114, 106]], ['654321', [110, 89]], ['12345', [48, 42]], ['666666', [113, 24]], ['sunshine', [28, 173]], ['123321', [153, 95]], ['letmein', [145, 98]], ['monkey', [38, 20]], ['asdfgh', [136, 18]], ['password1', [168, 155]], ['shadow', [202, 127]], ['secret', [241, 9]], ['summer', [198, 105]], ['1q2w3e', [57, 40]], ['snoopy1', [128, 238]], ['princess', [243]], ['dragon', [244]], ['adobeadobe', [255]], ['daniel', [120]], ['computer', [111]], ['michael', [115]], ['121212', [140]], ['charlie', [170]], ['master', [80]], ['superman', [212]], ['qwertyuiop', [197]], ['112233', [93]], ['asdfasdf', [137]], ['jessica', [218]], ['1q2w3e4r', [49]], ['welcome', [215]], ['1qaz2wsx', [60]], ['987654321', [1]], ['fdsa', [149]], ['753951', [233]], ['chocolate', [96]], ['fuckyou', [157]], ['soccer', [112]], ['tigger', [61]], ['asdasd', [196]], ['thomas', [221]], ['asdfghjkl', [34]], ['internet', [234]], ['michelle', [169]], ['football', [77]], ['123qwe', [175]], ['zxcvbnm', [44]], ['dreamweaver', [116]], ['7777777', [67]], ['maggie', [172]], ['qazwsx', [211]], ['baseball', [72]], ['jennifer', [232]], ['jordan', [97]], ['abcd1234', [90]], ['trustno1', [154]], ['buster', [35]], ['555555', [220]], ['liverpool', [107]], ['abc', [11]], ['whatever', [92]], ['11111111', [190]], ['102030', [63]], ['123123123', [19]], ['andrea', [83]], ['pepper', [247]], ['nicole', [133]], ['killer', [8]], ['abcdef', [41]], ['hannah', [207]], ['test', [167]], ['alexander', [71]], ['andrew', [210]], ['222222', [125]], ['joshua', [208]], ['freedom', [118]], ['samsung', [52]], ['asdfghj', [3]], ['purple', [147]], ['ginger', [123]], ['123654', [109]], ['matrix', [16]]]\n"
     ]
    }
   ],
   "source": [
    "def get_mapping_message_to_seed(n_list, n):\n",
    "    nums = [x for x in range(n)]\n",
    "    random.shuffle(nums)\n",
    "    i = 0\n",
    "    message_to_seed = list()\n",
    "\n",
    "    for passwd, num in n_list:\n",
    "        mess_map = list()\n",
    "        for _ in range(num):\n",
    "            mess_map.append(nums[i])\n",
    "            i += 1\n",
    "        message_to_seed.append([passwd, mess_map])\n",
    "\n",
    "    return message_to_seed\n",
    "\n",
    "message_to_seed = get_mapping_message_to_seed(n_list, n)\n",
    "print('Lista [hasło, [seedy do których jest mapowane]]\\n',message_to_seed)"
   ]
  },
  {
   "cell_type": "markdown",
   "metadata": {},
   "source": [
    "### Funkcja `get_mapping_seed_to_message(message_to_seed, n)` \n",
    "Zwraca odwrotne mapowanie do funkcji powyżej. To jest do jakiej wiadomości mapuje sie każdy seed."
   ]
  },
  {
   "cell_type": "code",
   "execution_count": 58,
   "metadata": {},
   "outputs": [
    {
     "name": "stdout",
     "output_type": "stream",
     "text": [
      "Lista [seed, hasło do którego sie mapuje]\n",
      " [[0, '12345678'], [1, '987654321'], [2, '123456'], [3, 'asdfghj'], [4, '12345678'], [5, '123456789'], [6, '12345678'], [7, '123456'], [8, 'killer'], [9, 'secret'], [10, '123456789'], [11, 'abc'], [12, '12345678'], [13, 'adobe123'], [14, 'password'], [15, '123456'], [16, 'matrix'], [17, '1234567'], [18, 'asdfgh'], [19, '123123123'], [20, 'monkey'], [21, '111111'], [22, '123456789'], [23, '123456789'], [24, '666666'], [25, 'password'], [26, '123456'], [27, '123456'], [28, 'sunshine'], [29, '123456'], [30, 'azerty'], [31, 'password'], [32, '123456'], [33, 'adobe123'], [34, 'asdfghjkl'], [35, 'buster'], [36, 'iloveyou'], [37, 'password'], [38, 'monkey'], [39, '123456'], [40, '1q2w3e'], [41, 'abcdef'], [42, '12345'], [43, 'adobe123'], [44, 'zxcvbnm'], [45, 'azerty'], [46, '123456'], [47, '123456'], [48, '12345'], [49, '1q2w3e4r'], [50, '123456'], [51, '1234567'], [52, 'samsung'], [53, '1234567'], [54, 'password'], [55, 'adobe123'], [56, 'qwerty'], [57, '1q2w3e'], [58, 'adobe123'], [59, '111111'], [60, '1qaz2wsx'], [61, 'tigger'], [62, 'iloveyou'], [63, '102030'], [64, 'adobe123'], [65, '123456789'], [66, 'photoshop'], [67, '7777777'], [68, 'macromedia'], [69, 'photoshop'], [70, 'iloveyou'], [71, 'alexander'], [72, 'baseball'], [73, '123456'], [74, '1234567'], [75, '123456789'], [76, '123456'], [77, 'football'], [78, 'password'], [79, '123456789'], [80, 'master'], [81, '000000'], [82, '123456'], [83, 'andrea'], [84, '000000'], [85, '123456789'], [86, '111111'], [87, 'password'], [88, '1234'], [89, '654321'], [90, 'abcd1234'], [91, '123456'], [92, 'whatever'], [93, '112233'], [94, 'password'], [95, '123321'], [96, 'chocolate'], [97, 'jordan'], [98, 'letmein'], [99, '123123'], [100, '123456'], [101, 'password'], [102, '123456'], [103, '1234567890'], [104, '12345678'], [105, 'summer'], [106, 'aaaaaa'], [107, 'liverpool'], [108, 'adobe123'], [109, '123654'], [110, '654321'], [111, 'computer'], [112, 'soccer'], [113, '666666'], [114, 'aaaaaa'], [115, 'michael'], [116, 'dreamweaver'], [117, '12345678'], [118, 'freedom'], [119, 'password'], [120, 'daniel'], [121, 'qwerty'], [122, '1234'], [123, 'ginger'], [124, 'adobe123'], [125, '222222'], [126, '123123'], [127, 'shadow'], [128, 'snoopy1'], [129, 'password'], [130, '123456'], [131, '123456'], [132, '123456789'], [133, 'nicole'], [134, '123456'], [135, '123456'], [136, 'asdfgh'], [137, 'asdfasdf'], [138, '123456'], [139, 'abc123'], [140, '121212'], [141, '123456'], [142, 'adobe123'], [143, '12345678'], [144, '123456'], [145, 'letmein'], [146, '12345678'], [147, 'purple'], [148, '1234567'], [149, 'fdsa'], [150, 'photoshop'], [151, '123456'], [152, 'qwerty'], [153, '123321'], [154, 'trustno1'], [155, 'password1'], [156, '123456'], [157, 'fuckyou'], [158, '000000'], [159, '1234567890'], [160, '123456'], [161, '12345678'], [162, 'qwerty'], [163, '123456789'], [164, 'adobe1'], [165, '123456'], [166, '123456'], [167, 'test'], [168, 'password1'], [169, 'michelle'], [170, 'charlie'], [171, '123456'], [172, 'maggie'], [173, 'sunshine'], [174, '1234567890'], [175, '123qwe'], [176, '123456789'], [177, '123456789'], [178, '1234567'], [179, 'macromedia'], [180, '1234567'], [181, '111111'], [182, '123456789'], [183, '123123'], [184, '123456'], [185, 'abc123'], [186, '123123'], [187, 'photoshop'], [188, '1234'], [189, 'password'], [190, '11111111'], [191, '123456'], [192, 'qwerty'], [193, 'abc123'], [194, 'adobe123'], [195, '12345678'], [196, 'asdasd'], [197, 'qwertyuiop'], [198, 'summer'], [199, '123456'], [200, 'password'], [201, '123456789'], [202, 'shadow'], [203, 'qwerty'], [204, '123456'], [205, '123456'], [206, 'abc123'], [207, 'hannah'], [208, 'joshua'], [209, '123456789'], [210, 'andrew'], [211, 'qazwsx'], [212, 'superman'], [213, '123456'], [214, 'macromedia'], [215, 'welcome'], [216, '123456'], [217, 'password'], [218, 'jessica'], [219, '111111'], [220, '555555'], [221, 'thomas'], [222, '1234567890'], [223, 'password'], [224, '123456'], [225, '123456789'], [226, '123456789'], [227, '123456'], [228, 'adobe123'], [229, 'adobe1'], [230, '123456789'], [231, 'adobe1'], [232, 'jennifer'], [233, '753951'], [234, 'internet'], [235, '123456'], [236, '111111'], [237, '12345678'], [238, 'snoopy1'], [239, 'password'], [240, 'azerty'], [241, 'secret'], [242, 'password'], [243, 'princess'], [244, 'dragon'], [245, 'qwerty'], [246, '123456'], [247, 'pepper'], [248, '000000'], [249, '123456'], [250, '123456789'], [251, 'password'], [252, '123456'], [253, '123456789'], [254, '123456789'], [255, 'adobeadobe']]\n"
     ]
    }
   ],
   "source": [
    "def get_mapping_seed_to_message(message_to_seed, n):\n",
    "    seed_to_message = [[x] for x in range(n)]\n",
    "    for passwd, mess_map in message_to_seed:\n",
    "        for i in mess_map:\n",
    "            seed_to_message[i].append(passwd)\n",
    "\n",
    "    return seed_to_message\n",
    "\n",
    "seed_to_message = get_mapping_seed_to_message(message_to_seed, n)\n",
    "print('Lista [seed, hasło do którego sie mapuje]\\n', seed_to_message)"
   ]
  },
  {
   "cell_type": "markdown",
   "metadata": {},
   "source": [
    "### Funkcja `encode(message, message_to_seed)` \n",
    "Oblicza seed dla wiadomości z przestrzeni seedów na postawie przekazanego mapowania zwracając losowy element z listy seedów do których mapuje sie dane hasło. Tutaj wybraliśmy hasło `freedom` ponieważ dla przestrzeni 256 seedów jest ono mapowane do wyłącznie jednego co nie pozwala na przypadkowe zwrócenie hasła dla złego klucza (w dalszej części dokładniejsze omówienie tego problemu)"
   ]
  },
  {
   "cell_type": "code",
   "execution_count": 87,
   "metadata": {},
   "outputs": [
    {
     "name": "stdout",
     "output_type": "stream",
     "text": [
      "seed dla hasła \"freedom\" to \"118 a binarnie 0b1110110\"\n"
     ]
    }
   ],
   "source": [
    "def encode(message, message_to_seed):\n",
    "    i = list(map(lambda x: x[0], message_to_seed)).index(message)\n",
    "    return random.choice(message_to_seed[i][1])\n",
    "\n",
    "message = 'freedom'\n",
    "encoded_message = encode(message, message_to_seed)\n",
    "print(f'seed dla hasła \"{message}\" to \"{encoded_message} a binarnie {bin(encoded_message)}\"')"
   ]
  },
  {
   "cell_type": "markdown",
   "metadata": {},
   "source": [
    "### Funkcja `decode(seed, seed_to_message)` \n",
    "Zwraca odkodowana wiadomość dal danego seeda (każdy seed mapuje sie do jednego hasła) na podstawie przekazanego mapowania."
   ]
  },
  {
   "cell_type": "code",
   "execution_count": 88,
   "metadata": {},
   "outputs": [
    {
     "name": "stdout",
     "output_type": "stream",
     "text": [
      "seed \"118\" mapuje sie do hasła \"freedom\"\n"
     ]
    }
   ],
   "source": [
    "def decode(seed, seed_to_message):\n",
    "    return seed_to_message[seed][1]\n",
    "\n",
    "decoded_message = decode(encoded_message, seed_to_message)\n",
    "print(f'seed \"{encoded_message}\" mapuje sie do hasła \"{decoded_message}\"')"
   ]
  },
  {
   "cell_type": "markdown",
   "metadata": {},
   "source": [
    "### Funkcja `encode_password(password, n)` \n",
    "Przekształca dowolny klucz do przestrzeni seedów. Tutaj jest to rozwiązane w bardzo prosty sposób na podstawie sprowadzenia klucza do wartości numerycznej oraz obliczenia mod n gdzie n = 256. To sprowadza dowolny klucz do bajta niestety dla tak malej przestrzeni seedów oraz prymitywnej funkcji otrzymamy szybko kolizje co w konsekwencji zwróci poprawne hasło dla niepoprawnego klucza. Jednak na potrzeby demonstracji i dla przejrzystości kodu zdecydowaliśmy sie na tak małą przestrzeń."
   ]
  },
  {
   "cell_type": "code",
   "execution_count": 99,
   "metadata": {},
   "outputs": [
    {
     "name": "stdout",
     "output_type": "stream",
     "text": [
      "dla klucza \"kryptografia\" po przekształceniu otrzymamy seed \"97 a binarnie 0b1100001\"\n"
     ]
    }
   ],
   "source": [
    "def encode_password(password, n):\n",
    "    return hash(password) % n\n",
    "\n",
    "passwd = 'kryptografia'\n",
    "encoded_password = encode_password(passwd, n)\n",
    "print(f'dla klucza \"{passwd}\" po przekształceniu otrzymamy seed \"{encoded_password} a binarnie {bin(encoded_password)}\"')"
   ]
  },
  {
   "cell_type": "markdown",
   "metadata": {},
   "source": [
    "### Funkcja `encrypt(message, password, message_to_seed, n)` \n",
    "Korzystając z funkcji przestawionych powyżej zwraca szyfrogram który w przypadku honey encryption należy do przestrzeni seedów. Najpierw podane hasło zamieniane jest w element z przestrzeni seedów (`encode_password`) a następnie wiadomość która ma byc zakodowana równie jest przekształcana (`encode`). Kolejnym krokiem jest operacja XOR miedzy seedem dla wiadomości oraz hasła. Wynik jest zwracany jako szyfrogram.\n",
    "### Przykład użycia:\n",
    "Jako klucz kodujący hasło wybieramy `kryptografia`\n",
    "hasło które chcemy zakodować to `freeedom` dlatego, ze w przestrzeni 256 seedów mapowane jest wyłącznie do jednego seeda co zapewnia ze zostanie zwrócone wyłącznie dla hasła które po przekształceniu będzie takie jak prawidłowe, niestety kolizje sa nieuniknione dla tak malej przestrzeni.\n",
    "# Szyfrowanie Diagram\n",
    "![](src/honey_szyfrowanie.png)\n"
   ]
  },
  {
   "cell_type": "code",
   "execution_count": 100,
   "metadata": {},
   "outputs": [
    {
     "name": "stdout",
     "output_type": "stream",
     "text": [
      "dla hasła \"freedom\" zaszyfrowanego kluczem \"kryptografia\" otrzymamy szyfrogram \"23 a binarnie 0b10111\"\n"
     ]
    }
   ],
   "source": [
    "def encrypt(message, password, message_to_seed, n):\n",
    "    p_seed = encode_password(password, n)\n",
    "    m_seed = encode(message, message_to_seed)\n",
    "    return p_seed ^ m_seed\n",
    "\n",
    "passwd = 'kryptografia'\n",
    "message = 'freedom'\n",
    "cipher = encrypt(message, passwd, message_to_seed, n)\n",
    "print(f'dla hasła \"{message}\" zaszyfrowanego kluczem \"{passwd}\" otrzymamy szyfrogram \"{cipher} a binarnie {bin(cipher)}\"')"
   ]
  },
  {
   "cell_type": "markdown",
   "metadata": {},
   "source": [
    "## Funkcja `decrypt(cipher, password, seed_to_message, n)`\n",
    "Przyjmuje szyfrogram i klucz i zwraca odkodowana wiadomość. dla właściwego klucza i szyfrogramu zaszyfrowanego powyżej zwrócona wiadomość będzie prawidłowa.\n",
    "\n",
    "# Deszyfrowanie Diagram\n",
    "![](src/honey_deszyfrowanie.png)"
   ]
  },
  {
   "cell_type": "code",
   "execution_count": 91,
   "metadata": {},
   "outputs": [
    {
     "name": "stdout",
     "output_type": "stream",
     "text": [
      "dla szyfrogramu \"23\" oraz klucza \"kryptografia\" odkodowana wiadomość to \"freedom\"\n"
     ]
    }
   ],
   "source": [
    "def decrypt(cipher, password, seed_to_message, n):\n",
    "    p_seed = encode_password(password, n)\n",
    "    return decode(p_seed ^ cipher, seed_to_message)\n",
    "\n",
    "decrypted_message = decrypt(cipher, passwd, seed_to_message, n)\n",
    "print(f'dla szyfrogramu \"{cipher}\" oraz klucza \"{passwd}\" odkodowana wiadomość to \"{decrypted_message}\"')\n"
   ]
  },
  {
   "cell_type": "markdown",
   "metadata": {},
   "source": [
    "## Esencja działania Honey Encryption\n",
    "Poniżej pokazane jest że dla złego klucza Funkcja `decrypt` zwraca wiadomości które dla dobrze zaimplementowanej przestrzeni wiadomości sa praktycznie nierozróżnialne dla atakującego od właściwej wiadomości.\n",
    "Jest to podstawa działania honey encryption i nie pozwala na atak brute force. Warto zaobserwować, ze częstotliwość występujących wiadomości pokrywa sie z prawdopodobieństwem ich wystąpienia zdefiniowanym w liście `prob_list` (więcej o tym poniżej)"
   ]
  },
  {
   "cell_type": "code",
   "execution_count": 92,
   "metadata": {},
   "outputs": [
    {
     "name": "stdout",
     "output_type": "stream",
     "text": [
      "123456\n",
      "123456789\n",
      "superman\n",
      "12345678\n",
      "123456\n",
      "adobe1\n",
      "password\n",
      "123456789\n",
      "123456\n",
      "222222\n",
      "1234567890\n",
      "andrea\n",
      "abc123\n",
      "maggie\n",
      "asdfghjkl\n",
      "12345678\n",
      "michael\n",
      "1234\n",
      "123456789\n",
      "123456\n"
     ]
    }
   ],
   "source": [
    "for _ in range (20):\n",
    "    bad_password = random.randint(1,sys.maxsize)\n",
    "    decrypted_with_wrong_password = decrypt(cipher, bad_password, seed_to_message, n)\n",
    "    print(decrypted_with_wrong_password)"
   ]
  },
  {
   "cell_type": "markdown",
   "metadata": {},
   "source": [
    "## Statystka prawdopodobieństwa zwracanych wiadomości\n",
    "Jak opisaliśmy w części teoretycznej funkcja `decrypt` powinna zwracać wiadomości dla złego klucza z prawdopodobieństwem określonym w `prob_list` a sama ta lista jest generowana dla każdej wiadomości i określone prawdopodobieństwo każdej wystąpienia wiadomości powinno byc jak najbardziej zbliżone do rzeczywistego ponieważ na tym opiera się bezpieczeństwo szyfru. Pożądane jest aby prawdopodobieństwo U(P)/G(P) wynosiło w przybliżeniu 1 gdzie U(P) to prawdopodobieństwo ze użytkownik wpisze wiadomość P a G(P) to prawdopodobieństwo ze generator wygeneruje wiadomość P. Poniżej przedstawione jest popróbowanie częstości występowania haseł zmierzonej dla złych kluczy a częstością określona w `prob_list`. Jak widać są one bardzo zbliżone co jest zamierzonym rezultatem. Niestety dla 100000 kluczy i przestrzeni 256 seedów wystąpią liczne kolizje i prawidłowe hasło zostanie zwrócone dla złego klucza"
   ]
  },
  {
   "cell_type": "code",
   "execution_count": 93,
   "metadata": {},
   "outputs": [
    {
     "name": "stdout",
     "output_type": "stream",
     "text": [
      "hasło - 123456\tprawdziwe prawd. - 0.16876664151602264\tobliczone prawd. - 0.17279\n",
      "hasło - 123456789\tprawdziwe prawd. - 0.08234487145110903\tobliczone prawd. - 0.08209\n",
      "hasło - password\tprawdziwe prawd. - 0.07188386638148746\tobliczone prawd. - 0.06863\n",
      "hasło - adobe123\tprawdziwe prawd. - 0.04399471212905398\tobliczone prawd. - 0.04331\n",
      "hasło - 12345678\tprawdziwe prawd. - 0.04189972583719427\tobliczone prawd. - 0.04242\n",
      "hasło - qwerty\tprawdziwe prawd. - 0.027194289764519302\tobliczone prawd. - 0.0269\n",
      "hasło - 1234567\tprawdziwe prawd. - 0.02582680144086169\tobliczone prawd. - 0.02648\n",
      "hasło - 111111\tprawdziwe prawd. - 0.023671536745922372\tobliczone prawd. - 0.02307\n",
      "hasło - photoshop\tprawdziwe prawd. - 0.017337523721630176\tobliczone prawd. - 0.01624\n",
      "hasło - 123123\tprawdziwe prawd. - 0.017188490566429918\tobliczone prawd. - 0.01585\n",
      "hasło - 1234567890\tprawdziwe prawd. - 0.015986248209835355\tobliczone prawd. - 0.01553\n",
      "hasło - 000000\tprawdziwe prawd. - 0.015835760058698693\tobliczone prawd. - 0.01548\n",
      "hasło - abc123\tprawdziwe prawd. - 0.014714373904855737\tobliczone prawd. - 0.01497\n",
      "hasło - 1234\tprawdziwe prawd. - 0.012773409325692526\tobliczone prawd. - 0.01182\n",
      "hasło - adobe1\tprawdziwe prawd. - 0.011794612773617182\tobliczone prawd. - 0.01162\n",
      "hasło - macromedia\tprawdziwe prawd. - 0.011359568988632324\tobliczone prawd. - 0.0116\n",
      "hasło - azerty\tprawdziwe prawd. - 0.010153793070477925\tobliczone prawd. - 0.0115\n",
      "hasło - iloveyou\tprawdziwe prawd. - 0.009798774061995297\tobliczone prawd. - 0.01131\n",
      "hasło - aaaaaa\tprawdziwe prawd. - 0.009204096437130665\tobliczone prawd. - 0.00808\n",
      "hasło - 654321\tprawdziwe prawd. - 0.009077096077538812\tobliczone prawd. - 0.00803\n",
      "hasło - 12345\tprawdziwe prawd. - 0.009041136892253394\tobliczone prawd. - 0.00802\n",
      "hasło - 666666\tprawdziwe prawd. - 0.007775290427581735\tobliczone prawd. - 0.00801\n",
      "hasło - sunshine\tprawdziwe prawd. - 0.007342533064782655\tobliczone prawd. - 0.008\n",
      "hasło - 123321\tprawdziwe prawd. - 0.007267288989214323\tobliczone prawd. - 0.00799\n",
      "hasło - letmein\tprawdziwe prawd. - 0.006953217723513358\tobliczone prawd. - 0.00794\n",
      "hasło - monkey\tprawdziwe prawd. - 0.0067655232477172155\tobliczone prawd. - 0.00781\n",
      "hasło - asdfgh\tprawdziwe prawd. - 0.006558705968185474\tobliczone prawd. - 0.00777\n",
      "hasło - password1\tprawdziwe prawd. - 0.005892525685874691\tobliczone prawd. - 0.00776\n",
      "hasło - shadow\tprawdziwe prawd. - 0.005882964284006893\tobliczone prawd. - 0.00775\n",
      "hasło - princess\tprawdziwe prawd. - 0.005847420811846161\tobliczone prawd. - 0.00775\n",
      "hasło - dragon\tprawdziwe prawd. - 0.0057894288309523366\tobliczone prawd. - 0.00749\n",
      "hasło - adobeadobe\tprawdziwe prawd. - 0.005786726695641871\tobliczone prawd. - 0.00742\n",
      "hasło - daniel\tprawdziwe prawd. - 0.005761783908160656\tobliczone prawd. - 0.00737\n",
      "hasło - computer\tprawdziwe prawd. - 0.005757418920351444\tobliczone prawd. - 0.00435\n",
      "hasło - michael\tprawdziwe prawd. - 0.005698387656645902\tobliczone prawd. - 0.00435\n",
      "hasło - 121212\tprawdziwe prawd. - 0.005692567672900285\tobliczone prawd. - 0.00429\n",
      "hasło - charlie\tprawdziwe prawd. - 0.005508614615226325\tobliczone prawd. - 0.0042\n",
      "hasło - master\tprawdziwe prawd. - 0.0052672931463455695\tobliczone prawd. - 0.00417\n",
      "hasło - superman\tprawdziwe prawd. - 0.005092277920852378\tobliczone prawd. - 0.00414\n",
      "hasło - qwertyuiop\tprawdziwe prawd. - 0.005065880137434759\tobliczone prawd. - 0.00413\n",
      "hasło - 112233\tprawdziwe prawd. - 0.004867377120396757\tobliczone prawd. - 0.0041\n",
      "hasło - asdfasdf\tprawdziwe prawd. - 0.004813334414187458\tobliczone prawd. - 0.00409\n",
      "hasło - jessica\tprawdziwe prawd. - 0.004722293239881023\tobliczone prawd. - 0.00406\n",
      "hasło - 1q2w3e4r\tprawdziwe prawd. - 0.00471252398145088\tobliczone prawd. - 0.00406\n",
      "hasło - welcome\tprawdziwe prawd. - 0.004615247110274142\tobliczone prawd. - 0.00405\n",
      "hasło - 1qaz2wsx\tprawdziwe prawd. - 0.004610258552777899\tobliczone prawd. - 0.00405\n",
      "hasło - 987654321\tprawdziwe prawd. - 0.004602567859971191\tobliczone prawd. - 0.00404\n",
      "hasło - fdsa\tprawdziwe prawd. - 0.0045942535974774525\tobliczone prawd. - 0.00403\n",
      "hasło - 753951\tprawdziwe prawd. - 0.004530233776275668\tobliczone prawd. - 0.00403\n",
      "hasło - chocolate\tprawdziwe prawd. - 0.004458315405704831\tobliczone prawd. - 0.00402\n",
      "hasło - fuckyou\tprawdziwe prawd. - 0.004444596872590163\tobliczone prawd. - 0.00401\n",
      "hasło - soccer\tprawdziwe prawd. - 0.004408221974180058\tobliczone prawd. - 0.004\n",
      "hasło - tigger\tprawdziwe prawd. - 0.004385773465446965\tobliczone prawd. - 0.004\n",
      "hasło - asdasd\tprawdziwe prawd. - 0.0043568814032812235\tobliczone prawd. - 0.004\n",
      "hasło - thomas\tprawdziwe prawd. - 0.0042778959095907095\tobliczone prawd. - 0.00399\n",
      "hasło - asdfghjkl\tprawdziwe prawd. - 0.004277272339903679\tobliczone prawd. - 0.00398\n",
      "hasło - internet\tprawdziwe prawd. - 0.004275817343967275\tobliczone prawd. - 0.00397\n",
      "hasło - michelle\tprawdziwe prawd. - 0.0042259317690048455\tobliczone prawd. - 0.00396\n",
      "hasło - football\tprawdziwe prawd. - 0.0042128368055772076\tobliczone prawd. - 0.00396\n",
      "hasło - 123qwe\tprawdziwe prawd. - 0.004161704091240717\tobliczone prawd. - 0.00395\n",
      "hasło - zxcvbnm\tprawdziwe prawd. - 0.004137800586571219\tobliczone prawd. - 0.00395\n",
      "hasło - dreamweaver\tprawdziwe prawd. - 0.004120756348459056\tobliczone prawd. - 0.00394\n",
      "hasło - 7777777\tprawdziwe prawd. - 0.004119301352522651\tobliczone prawd. - 0.00393\n",
      "hasło - maggie\tprawdziwe prawd. - 0.003998536689801102\tobliczone prawd. - 0.00392\n",
      "hasło - qazwsx\tprawdziwe prawd. - 0.003976088181068009\tobliczone prawd. - 0.00391\n",
      "hasło - baseball\tprawdziwe prawd. - 0.003972762476070513\tobliczone prawd. - 0.00391\n",
      "hasło - jennifer\tprawdziwe prawd. - 0.003942831131093056\tobliczone prawd. - 0.00389\n",
      "hasło - jordan\tprawdziwe prawd. - 0.003924124040482144\tobliczone prawd. - 0.00388\n",
      "hasło - abcd1234\tprawdziwe prawd. - 0.00383911070648367\tobliczone prawd. - 0.00388\n",
      "hasło - trustno1\tprawdziwe prawd. - 0.0037782087337170367\tobliczone prawd. - 0.00388\n",
      "hasło - buster\tprawdziwe prawd. - 0.003763866630915338\tobliczone prawd. - 0.00388\n",
      "hasło - 555555\tprawdziwe prawd. - 0.0037516030937370737\tobliczone prawd. - 0.00386\n",
      "hasło - liverpool\tprawdziwe prawd. - 0.003743080974680992\tobliczone prawd. - 0.00385\n",
      "hasło - abc\tprawdziwe prawd. - 0.003738508130309436\tobliczone prawd. - 0.00384\n",
      "hasło - whatever\tprawdziwe prawd. - 0.003727491732505233\tobliczone prawd. - 0.00382\n",
      "hasło - 11111111\tprawdziwe prawd. - 0.0036825947150390457\tobliczone prawd. - 0.00382\n",
      "hasło - 102030\tprawdziwe prawd. - 0.003680308292853268\tobliczone prawd. - 0.00381\n",
      "hasło - 123123123\tprawdziwe prawd. - 0.0036543262225603355\tobliczone prawd. - 0.00381\n",
      "hasło - andrea\tprawdziwe prawd. - 0.0036279284391427164\tobliczone prawd. - 0.00379\n",
      "hasło - pepper\tprawdziwe prawd. - 0.003625434160394595\tobliczone prawd. - 0.00379\n",
      "hasło - nicole\tprawdziwe prawd. - 0.00359508710229245\tobliczone prawd. - 0.00378\n",
      "hasło - killer\tprawdziwe prawd. - 0.003569728601686548\tobliczone prawd. - 0.00376\n",
      "hasło - abcdef\tprawdziwe prawd. - 0.0035495665151392326\tobliczone prawd. - 0.00376\n",
      "hasło - hannah\tprawdziwe prawd. - 0.0035258708670320785\tobliczone prawd. - 0.00376\n",
      "hasło - test\tprawdziwe prawd. - 0.003512360190479754\tobliczone prawd. - 0.00376\n",
      "hasło - alexander\tprawdziwe prawd. - 0.0034537446398988985\tobliczone prawd. - 0.00376\n",
      "hasło - andrew\tprawdziwe prawd. - 0.0034369082583490785\tobliczone prawd. - 0.00374\n",
      "hasło - 222222\tprawdziwe prawd. - 0.003435037549287987\tobliczone prawd. - 0.00374\n",
      "hasło - joshua\tprawdziwe prawd. - 0.003422981868672067\tobliczone prawd. - 0.00372\n",
      "hasło - freedom\tprawdziwe prawd. - 0.0034204875899239455\tobliczone prawd. - 0.00371\n",
      "hasło - samsung\tprawdziwe prawd. - 0.003403443351811782\tobliczone prawd. - 0.00371\n",
      "hasło - asdfghj\tprawdziwe prawd. - 0.0033624956090301207\tobliczone prawd. - 0.00368\n",
      "hasło - purple\tprawdziwe prawd. - 0.003344619944668583\tobliczone prawd. - 0.00367\n",
      "hasło - ginger\tprawdziwe prawd. - 0.003340878526546401\tobliczone prawd. - 0.00367\n",
      "hasło - 123654\tprawdziwe prawd. - 0.003317806448126277\tobliczone prawd. - 0.00365\n",
      "hasło - matrix\tprawdziwe prawd. - 0.0033069979068844173\tobliczone prawd. - 0.00364\n",
      "hasło - secret\tprawdziwe prawd. - 0.0032847572547136674\tobliczone prawd. - 0.00364\n",
      "hasło - summer\tprawdziwe prawd. - 0.0032816394062785154\tobliczone prawd. - 0.00364\n",
      "hasło - 1q2w3e\tprawdziwe prawd. - 0.003274156570034151\tobliczone prawd. - 0.00354\n",
      "hasło - snoopy1\tprawdziwe prawd. - 0.003250253065364653\tobliczone prawd. - 0.00353\n"
     ]
    }
   ],
   "source": [
    "c = 100000\n",
    "counted = Counter((decrypt(cipher, random.randint(1,sys.maxsize), seed_to_message, n) for _ in range(c)))\n",
    "prob_list_counted = list()\n",
    "for passwd, count in sorted(counted.items(), key=lambda x: x[1], reverse=True):\n",
    "    prob_list_counted.append((passwd, count/c))\n",
    "\n",
    "zipped = list(zip(prob_list, prob_list_counted))\n",
    "\n",
    "for p, pc in zipped:\n",
    "    print(f'hasło - {p[0]}\\tprawdziwe prawd. - {p[1]}\\tobliczone prawd. - {pc[1]}')"
   ]
  }
 ],
 "metadata": {
  "interpreter": {
   "hash": "b0fa6594d8f4cbf19f97940f81e996739fb7646882a419484c72d19e05852a7e"
  },
  "kernelspec": {
   "display_name": "Python 3.9.9 64-bit",
   "language": "python",
   "name": "python3"
  },
  "language_info": {
   "codemirror_mode": {
    "name": "ipython",
    "version": 3
   },
   "file_extension": ".py",
   "mimetype": "text/x-python",
   "name": "python",
   "nbconvert_exporter": "python",
   "pygments_lexer": "ipython3",
   "version": "3.9.9"
  },
  "orig_nbformat": 4
 },
 "nbformat": 4,
 "nbformat_minor": 2
}

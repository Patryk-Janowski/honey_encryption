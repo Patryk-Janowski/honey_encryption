{
 "cells": [
  {
   "cell_type": "markdown",
   "metadata": {},
   "source": [
    "# Honeyword Encryption"
   ]
  },
  {
   "cell_type": "markdown",
   "metadata": {},
   "source": [
    "**Plan projektu:**\n",
    "\n",
    "1. historia dobrze wykorzystanej przynęty\n",
    "2. wstępne informacje o temacie\n",
    "3. implementacja w menagera haseł"
   ]
  },
  {
   "cell_type": "markdown",
   "metadata": {},
   "source": [
    "### 1. Operacja Micemeat\n",
    "\n",
    "30 kwietnia 1943 roku na hiszpańskim wybrzeżu zostało znalezione ciało majora Royal Marines przez tamtejszego rybaka. Pomimo neutralności Hiszpanii w okolicy znajdował się niemiecki posterunek, którego agent zainteresował się wrogimi zwłokami. Zmarły posiadał przy sobie dokumenty, które okazały się dla niezwykle cenne dla Abwehry - zawierały informacje o planowanej dużej inwazji aliantów na **Grecję**. Niemcy przypuszczali wystąpienie inwazji, ale brakowało im informacji o miejscu. Przechowony list skutkwał rozkazem Führera, który przemieścił trzy pancerne dywizje na wybrzeża Grecji.\n",
    "\n",
    "<details>\n",
    "<br>\n",
    "Inwazja została przeprowadzona na Sycylię. Znaleziony major nigdy nie istniał, jego tożsamość została stworzona na potrzeby operacji przez brytyjski wywiad. Oczywiście celem było wprowadzenie wroga w błąd.\n",
    "<br>\n",
    "<br>\n",
    "Podczas fabrykacji żołnierza dołożono wszelkich starań dla zagwarantowania autentyczności - przy jego ciele znajdowały się też zdjęcie abstrakcyjnej narzeczonej, listy niepocieszonego ojca, list wychwalający majora jako eksperta w dziedzinie operacji desantowych, prawdziwe bilety z kina, ale również nota z banku o przekroczeniu stanu konta, niezapłacony rachunek i przepustka, która straciła ważność.\n",
    "<br>\n",
    "Ponadto na łamach dziennika The Times opublikowano nazwisko majora na liście ofiar brytyjskich. Do władz Hiszpanii wysłano ciąg pilnych depesz, w których brytyjczycy upominali się o zwrot dokumentów (z należytym zachowaniem dyskrecji). Dzięki odpowiednim przygotowaniu dokumentów, po ich odesłaniu brytyjscy specjaliści byli w stanie potwierdzić, że zostały one wcześniej otwarte.\n",
    "<br>\n",
    "<br>\n",
    "Powyższe działania pozwoliły na względnie niewielki opór przeciwnika podczas inwazji. Co więcej miały też wpływ na późniejsze operacje - Niemcy przestali wierzyć znajdowanym dokumentom.\n",
    "</details>"
   ]
  },
  {
   "cell_type": "markdown",
   "metadata": {},
   "source": []
  },
  {
   "cell_type": "code",
   "execution_count": 36,
   "metadata": {},
   "outputs": [],
   "source": [
    "import random\n",
    "import re\n",
    "import sys\n",
    "from typing import Counter\n",
    "\n",
    "n = 256"
   ]
  },
  {
   "cell_type": "code",
   "execution_count": 37,
   "metadata": {},
   "outputs": [
    {
     "name": "stdout",
     "output_type": "stream",
     "text": [
      "[('123456', 0.16876664151602264), ('123456789', 0.08234487145110903), ('password', 0.07188386638148746), ('adobe123', 0.04399471212905398), ('12345678', 0.04189972583719427), ('qwerty', 0.027194289764519302), ('1234567', 0.02582680144086169), ('111111', 0.023671536745922372), ('photoshop', 0.017337523721630176), ('123123', 0.017188490566429918), ('1234567890', 0.015986248209835355), ('000000', 0.015835760058698693), ('abc123', 0.014714373904855737), ('1234', 0.012773409325692526), ('adobe1', 0.011794612773617182), ('macromedia', 0.011359568988632324), ('azerty', 0.010153793070477925), ('iloveyou', 0.009798774061995297), ('aaaaaa', 0.009204096437130665), ('654321', 0.009077096077538812), ('12345', 0.009041136892253394), ('666666', 0.007775290427581735), ('sunshine', 0.007342533064782655), ('123321', 0.007267288989214323), ('letmein', 0.006953217723513358), ('monkey', 0.0067655232477172155), ('asdfgh', 0.006558705968185474), ('password1', 0.005892525685874691), ('shadow', 0.005882964284006893), ('princess', 0.005847420811846161), ('dragon', 0.0057894288309523366), ('adobeadobe', 0.005786726695641871), ('daniel', 0.005761783908160656), ('computer', 0.005757418920351444), ('michael', 0.005698387656645902), ('121212', 0.005692567672900285), ('charlie', 0.005508614615226325), ('master', 0.0052672931463455695), ('superman', 0.005092277920852378), ('qwertyuiop', 0.005065880137434759), ('112233', 0.004867377120396757), ('asdfasdf', 0.004813334414187458), ('jessica', 0.004722293239881023), ('1q2w3e4r', 0.00471252398145088), ('welcome', 0.004615247110274142), ('1qaz2wsx', 0.004610258552777899), ('987654321', 0.004602567859971191), ('fdsa', 0.0045942535974774525), ('753951', 0.004530233776275668), ('chocolate', 0.004458315405704831), ('fuckyou', 0.004444596872590163), ('soccer', 0.004408221974180058), ('tigger', 0.004385773465446965), ('asdasd', 0.0043568814032812235), ('thomas', 0.0042778959095907095), ('asdfghjkl', 0.004277272339903679), ('internet', 0.004275817343967275), ('michelle', 0.0042259317690048455), ('football', 0.0042128368055772076), ('123qwe', 0.004161704091240717), ('zxcvbnm', 0.004137800586571219), ('dreamweaver', 0.004120756348459056), ('7777777', 0.004119301352522651), ('maggie', 0.003998536689801102), ('qazwsx', 0.003976088181068009), ('baseball', 0.003972762476070513), ('jennifer', 0.003942831131093056), ('jordan', 0.003924124040482144), ('abcd1234', 0.00383911070648367), ('trustno1', 0.0037782087337170367), ('buster', 0.003763866630915338), ('555555', 0.0037516030937370737), ('liverpool', 0.003743080974680992), ('abc', 0.003738508130309436), ('whatever', 0.003727491732505233), ('11111111', 0.0036825947150390457), ('102030', 0.003680308292853268), ('123123123', 0.0036543262225603355), ('andrea', 0.0036279284391427164), ('pepper', 0.003625434160394595), ('nicole', 0.00359508710229245), ('killer', 0.003569728601686548), ('abcdef', 0.0035495665151392326), ('hannah', 0.0035258708670320785), ('test', 0.003512360190479754), ('alexander', 0.0034537446398988985), ('andrew', 0.0034369082583490785), ('222222', 0.003435037549287987), ('joshua', 0.003422981868672067), ('freedom', 0.0034204875899239455), ('samsung', 0.003403443351811782), ('asdfghj', 0.0033624956090301207), ('purple', 0.003344619944668583), ('ginger', 0.003340878526546401), ('123654', 0.003317806448126277), ('matrix', 0.0033069979068844173), ('secret', 0.0032847572547136674), ('summer', 0.0032816394062785154), ('1q2w3e', 0.003274156570034151), ('snoopy1', 0.003250253065364653)]\n"
     ]
    }
   ],
   "source": [
    "\n",
    "def parse_passwd_list(path):\n",
    "    p_list = list()\n",
    "    count_pattern = re.compile(r'\\.\\s+(\\d+)')\n",
    "    password_pattern = re.compile(r'\\b\\w+$')\n",
    "    total_count = 0\n",
    "\n",
    "    with open(path) as f:\n",
    "        for line in f.readlines():\n",
    "        \n",
    "            count = count_pattern.search(line)\n",
    "            passwd = password_pattern.search(line)\n",
    "\n",
    "            if passwd and count:\n",
    "                count = int(count.group(1))\n",
    "                p_list.append([passwd.group(), count])\n",
    "                total_count += count\n",
    "    \n",
    "    return p_list, total_count\n",
    "\n",
    "\n",
    "def get_prob_list(p_list, total_count):\n",
    "    return [(passwd, count/total_count) for passwd, count in p_list]\n",
    "\n",
    "p_list, total_count = parse_passwd_list('common_passwords.txt')\n",
    "prob_list = get_prob_list(p_list, total_count)\n",
    "print(prob_list)\n",
    "\n"
   ]
  },
  {
   "cell_type": "code",
   "execution_count": 38,
   "metadata": {},
   "outputs": [
    {
     "name": "stdout",
     "output_type": "stream",
     "text": [
      "[['123456', 43], ['123456789', 21], ['password', 18], ['adobe123', 11], ['12345678', 11], ['qwerty', 7], ['1234567', 7], ['111111', 6], ['photoshop', 4], ['123123', 4], ['1234567890', 4], ['000000', 4], ['abc123', 4], ['1234', 3], ['adobe1', 3], ['macromedia', 3], ['azerty', 3], ['iloveyou', 3], ['aaaaaa', 2], ['654321', 2], ['12345', 2], ['666666', 2], ['sunshine', 2], ['123321', 2], ['letmein', 2], ['monkey', 2], ['asdfgh', 2], ['password1', 2], ['shadow', 2], ['secret', 2], ['summer', 2], ['1q2w3e', 2], ['snoopy1', 2], ['princess', 1], ['dragon', 1], ['adobeadobe', 1], ['daniel', 1], ['computer', 1], ['michael', 1], ['121212', 1], ['charlie', 1], ['master', 1], ['superman', 1], ['qwertyuiop', 1], ['112233', 1], ['asdfasdf', 1], ['jessica', 1], ['1q2w3e4r', 1], ['welcome', 1], ['1qaz2wsx', 1], ['987654321', 1], ['fdsa', 1], ['753951', 1], ['chocolate', 1], ['fuckyou', 1], ['soccer', 1], ['tigger', 1], ['asdasd', 1], ['thomas', 1], ['asdfghjkl', 1], ['internet', 1], ['michelle', 1], ['football', 1], ['123qwe', 1], ['zxcvbnm', 1], ['dreamweaver', 1], ['7777777', 1], ['maggie', 1], ['qazwsx', 1], ['baseball', 1], ['jennifer', 1], ['jordan', 1], ['abcd1234', 1], ['trustno1', 1], ['buster', 1], ['555555', 1], ['liverpool', 1], ['abc', 1], ['whatever', 1], ['11111111', 1], ['102030', 1], ['123123123', 1], ['andrea', 1], ['pepper', 1], ['nicole', 1], ['killer', 1], ['abcdef', 1], ['hannah', 1], ['test', 1], ['alexander', 1], ['andrew', 1], ['222222', 1], ['joshua', 1], ['freedom', 1], ['samsung', 1], ['asdfghj', 1], ['purple', 1], ['ginger', 1], ['123654', 1], ['matrix', 1]]\n"
     ]
    }
   ],
   "source": [
    "\n",
    "def get_numbererd_list(prob_list, n):\n",
    "    n_list = [[passwd, round(prob * n)] for passwd, prob in prob_list]\n",
    "    n_list = sorted(n_list, key=lambda x: x[1], reverse=True)\n",
    "    s = sum(map(lambda x: x[1], n_list))\n",
    "\n",
    "    diff = s - n\n",
    "    l = len(n_list)\n",
    "\n",
    "    if diff > 0:\n",
    "        for i in range(diff):\n",
    "            n_list[i][1] -= 1\n",
    "    elif diff < 0:\n",
    "        for i in range(abs(diff)):\n",
    "            n_list[l-i-1][1] += 1\n",
    "\n",
    "    return sorted(n_list, key=lambda x: x[1], reverse=True)\n",
    "\n",
    "n_list = get_numbererd_list(prob_list, n)\n",
    "\n",
    "print(n_list)\n",
    "\n"
   ]
  },
  {
   "cell_type": "code",
   "execution_count": 39,
   "metadata": {},
   "outputs": [
    {
     "name": "stdout",
     "output_type": "stream",
     "text": [
      "[['123456', [144, 163, 6, 9, 98, 90, 15, 197, 195, 93, 125, 175, 101, 231, 37, 147, 24, 87, 82, 227, 31, 50, 161, 71, 94, 242, 47, 34, 51, 251, 202, 20, 160, 97, 185, 246, 65, 75, 45, 233, 21, 165, 17]], ['123456789', [3, 225, 221, 232, 214, 219, 23, 186, 206, 126, 80, 150, 141, 61, 208, 69, 176, 99, 0, 46, 255]], ['password', [43, 131, 198, 204, 44, 96, 2, 118, 239, 180, 113, 8, 119, 188, 145, 215, 66, 10]], ['adobe123', [84, 88, 85, 30, 216, 143, 137, 49, 73, 56, 207]], ['12345678', [12, 58, 133, 201, 149, 249, 179, 106, 39, 60, 62]], ['qwerty', [228, 213, 229, 174, 184, 5, 199]], ['1234567', [237, 89, 83, 247, 223, 95, 234]], ['111111', [40, 116, 41, 130, 19, 156]], ['photoshop', [38, 91, 168, 252]], ['123123', [217, 108, 124, 152]], ['1234567890', [193, 14, 105, 78]], ['000000', [245, 212, 114, 170]], ['abc123', [76, 138, 103, 200]], ['1234', [121, 244, 178]], ['adobe1', [42, 183, 77]], ['macromedia', [32, 148, 218]], ['azerty', [109, 210, 122]], ['iloveyou', [57, 55, 203]], ['aaaaaa', [128, 64]], ['654321', [134, 222]], ['12345', [155, 142]], ['666666', [92, 26]], ['sunshine', [158, 53]], ['123321', [190, 107]], ['letmein', [192, 129]], ['monkey', [241, 240]], ['asdfgh', [230, 81]], ['password1', [220, 132]], ['shadow', [79, 33]], ['secret', [1, 191]], ['summer', [72, 100]], ['1q2w3e', [146, 74]], ['snoopy1', [226, 189]], ['princess', [254]], ['dragon', [67]], ['adobeadobe', [25]], ['daniel', [104]], ['computer', [154]], ['michael', [211]], ['121212', [205]], ['charlie', [236]], ['master', [164]], ['superman', [153]], ['qwertyuiop', [16]], ['112233', [36]], ['asdfasdf', [102]], ['jessica', [253]], ['1q2w3e4r', [224]], ['welcome', [151]], ['1qaz2wsx', [22]], ['987654321', [166]], ['fdsa', [248]], ['753951', [167]], ['chocolate', [157]], ['fuckyou', [127]], ['soccer', [194]], ['tigger', [209]], ['asdasd', [70]], ['thomas', [235]], ['asdfghjkl', [159]], ['internet', [4]], ['michelle', [196]], ['football', [110]], ['123qwe', [181]], ['zxcvbnm', [123]], ['dreamweaver', [162]], ['7777777', [68]], ['maggie', [86]], ['qazwsx', [115]], ['baseball', [172]], ['jennifer', [173]], ['jordan', [29]], ['abcd1234', [27]], ['trustno1', [177]], ['buster', [182]], ['555555', [171]], ['liverpool', [243]], ['abc', [238]], ['whatever', [11]], ['11111111', [13]], ['102030', [169]], ['123123123', [112]], ['andrea', [250]], ['pepper', [140]], ['nicole', [117]], ['killer', [35]], ['abcdef', [136]], ['hannah', [187]], ['test', [139]], ['alexander', [59]], ['andrew', [7]], ['222222', [111]], ['joshua', [48]], ['freedom', [54]], ['samsung', [28]], ['asdfghj', [135]], ['purple', [63]], ['ginger', [52]], ['123654', [120]], ['matrix', [18]]]\n"
     ]
    }
   ],
   "source": [
    "def get_mapping_message_to_seed(n_list, n):\n",
    "    nums = [x for x in range(n)]\n",
    "    random.shuffle(nums)\n",
    "    i = 0\n",
    "    message_to_seed = list()\n",
    "\n",
    "    for passwd, num in n_list:\n",
    "        mess_map = list()\n",
    "        for _ in range(num):\n",
    "            mess_map.append(nums[i])\n",
    "            i += 1\n",
    "        message_to_seed.append([passwd, mess_map])\n",
    "\n",
    "    return message_to_seed\n",
    "\n",
    "message_to_seed = get_mapping_message_to_seed(n_list, n)\n",
    "print(message_to_seed)"
   ]
  },
  {
   "cell_type": "code",
   "execution_count": 40,
   "metadata": {},
   "outputs": [
    {
     "name": "stdout",
     "output_type": "stream",
     "text": [
      "[[0, '123456789'], [1, 'secret'], [2, 'password'], [3, '123456789'], [4, 'internet'], [5, 'qwerty'], [6, '123456'], [7, 'andrew'], [8, 'password'], [9, '123456'], [10, 'password'], [11, 'whatever'], [12, '12345678'], [13, '11111111'], [14, '1234567890'], [15, '123456'], [16, 'qwertyuiop'], [17, '123456'], [18, 'matrix'], [19, '111111'], [20, '123456'], [21, '123456'], [22, '1qaz2wsx'], [23, '123456789'], [24, '123456'], [25, 'adobeadobe'], [26, '666666'], [27, 'abcd1234'], [28, 'samsung'], [29, 'jordan'], [30, 'adobe123'], [31, '123456'], [32, 'macromedia'], [33, 'shadow'], [34, '123456'], [35, 'killer'], [36, '112233'], [37, '123456'], [38, 'photoshop'], [39, '12345678'], [40, '111111'], [41, '111111'], [42, 'adobe1'], [43, 'password'], [44, 'password'], [45, '123456'], [46, '123456789'], [47, '123456'], [48, 'joshua'], [49, 'adobe123'], [50, '123456'], [51, '123456'], [52, 'ginger'], [53, 'sunshine'], [54, 'freedom'], [55, 'iloveyou'], [56, 'adobe123'], [57, 'iloveyou'], [58, '12345678'], [59, 'alexander'], [60, '12345678'], [61, '123456789'], [62, '12345678'], [63, 'purple'], [64, 'aaaaaa'], [65, '123456'], [66, 'password'], [67, 'dragon'], [68, '7777777'], [69, '123456789'], [70, 'asdasd'], [71, '123456'], [72, 'summer'], [73, 'adobe123'], [74, '1q2w3e'], [75, '123456'], [76, 'abc123'], [77, 'adobe1'], [78, '1234567890'], [79, 'shadow'], [80, '123456789'], [81, 'asdfgh'], [82, '123456'], [83, '1234567'], [84, 'adobe123'], [85, 'adobe123'], [86, 'maggie'], [87, '123456'], [88, 'adobe123'], [89, '1234567'], [90, '123456'], [91, 'photoshop'], [92, '666666'], [93, '123456'], [94, '123456'], [95, '1234567'], [96, 'password'], [97, '123456'], [98, '123456'], [99, '123456789'], [100, 'summer'], [101, '123456'], [102, 'asdfasdf'], [103, 'abc123'], [104, 'daniel'], [105, '1234567890'], [106, '12345678'], [107, '123321'], [108, '123123'], [109, 'azerty'], [110, 'football'], [111, '222222'], [112, '123123123'], [113, 'password'], [114, '000000'], [115, 'qazwsx'], [116, '111111'], [117, 'nicole'], [118, 'password'], [119, 'password'], [120, '123654'], [121, '1234'], [122, 'azerty'], [123, 'zxcvbnm'], [124, '123123'], [125, '123456'], [126, '123456789'], [127, 'fuckyou'], [128, 'aaaaaa'], [129, 'letmein'], [130, '111111'], [131, 'password'], [132, 'password1'], [133, '12345678'], [134, '654321'], [135, 'asdfghj'], [136, 'abcdef'], [137, 'adobe123'], [138, 'abc123'], [139, 'test'], [140, 'pepper'], [141, '123456789'], [142, '12345'], [143, 'adobe123'], [144, '123456'], [145, 'password'], [146, '1q2w3e'], [147, '123456'], [148, 'macromedia'], [149, '12345678'], [150, '123456789'], [151, 'welcome'], [152, '123123'], [153, 'superman'], [154, 'computer'], [155, '12345'], [156, '111111'], [157, 'chocolate'], [158, 'sunshine'], [159, 'asdfghjkl'], [160, '123456'], [161, '123456'], [162, 'dreamweaver'], [163, '123456'], [164, 'master'], [165, '123456'], [166, '987654321'], [167, '753951'], [168, 'photoshop'], [169, '102030'], [170, '000000'], [171, '555555'], [172, 'baseball'], [173, 'jennifer'], [174, 'qwerty'], [175, '123456'], [176, '123456789'], [177, 'trustno1'], [178, '1234'], [179, '12345678'], [180, 'password'], [181, '123qwe'], [182, 'buster'], [183, 'adobe1'], [184, 'qwerty'], [185, '123456'], [186, '123456789'], [187, 'hannah'], [188, 'password'], [189, 'snoopy1'], [190, '123321'], [191, 'secret'], [192, 'letmein'], [193, '1234567890'], [194, 'soccer'], [195, '123456'], [196, 'michelle'], [197, '123456'], [198, 'password'], [199, 'qwerty'], [200, 'abc123'], [201, '12345678'], [202, '123456'], [203, 'iloveyou'], [204, 'password'], [205, '121212'], [206, '123456789'], [207, 'adobe123'], [208, '123456789'], [209, 'tigger'], [210, 'azerty'], [211, 'michael'], [212, '000000'], [213, 'qwerty'], [214, '123456789'], [215, 'password'], [216, 'adobe123'], [217, '123123'], [218, 'macromedia'], [219, '123456789'], [220, 'password1'], [221, '123456789'], [222, '654321'], [223, '1234567'], [224, '1q2w3e4r'], [225, '123456789'], [226, 'snoopy1'], [227, '123456'], [228, 'qwerty'], [229, 'qwerty'], [230, 'asdfgh'], [231, '123456'], [232, '123456789'], [233, '123456'], [234, '1234567'], [235, 'thomas'], [236, 'charlie'], [237, '1234567'], [238, 'abc'], [239, 'password'], [240, 'monkey'], [241, 'monkey'], [242, '123456'], [243, 'liverpool'], [244, '1234'], [245, '000000'], [246, '123456'], [247, '1234567'], [248, 'fdsa'], [249, '12345678'], [250, 'andrea'], [251, '123456'], [252, 'photoshop'], [253, 'jessica'], [254, 'princess'], [255, '123456789']]\n"
     ]
    }
   ],
   "source": [
    "def get_mapping_seed_to_message(message_to_seed, n):\n",
    "    seed_to_message = [[x] for x in range(n)]\n",
    "    for passwd, mess_map in message_to_seed:\n",
    "        for i in mess_map:\n",
    "            seed_to_message[i].append(passwd)\n",
    "\n",
    "    return seed_to_message\n",
    "\n",
    "seed_to_message = get_mapping_seed_to_message(message_to_seed, n)\n",
    "print(seed_to_message)"
   ]
  },
  {
   "cell_type": "code",
   "execution_count": 41,
   "metadata": {},
   "outputs": [
    {
     "name": "stdout",
     "output_type": "stream",
     "text": [
      "143\n"
     ]
    }
   ],
   "source": [
    "def encode(message, message_to_seed):\n",
    "    i = list(map(lambda x: x[0], message_to_seed)).index(message)\n",
    "    return random.choice(message_to_seed[i][1])\n",
    "\n",
    "message = 'adobe123'\n",
    "encoded_message = encode(message, message_to_seed)\n",
    "print(encoded_message)"
   ]
  },
  {
   "cell_type": "code",
   "execution_count": 42,
   "metadata": {},
   "outputs": [
    {
     "name": "stdout",
     "output_type": "stream",
     "text": [
      "adobe123\n"
     ]
    }
   ],
   "source": [
    "def decode(seed, seed_to_message):\n",
    "    return seed_to_message[seed][1]\n",
    "\n",
    "decoded_message = decode(encoded_message, seed_to_message)\n",
    "print(decoded_message)"
   ]
  },
  {
   "cell_type": "code",
   "execution_count": 43,
   "metadata": {},
   "outputs": [
    {
     "name": "stdout",
     "output_type": "stream",
     "text": [
      "20\n"
     ]
    }
   ],
   "source": [
    "def encode_password(password, n):\n",
    "    return hash(password) % n\n",
    "\n",
    "passwd = 'jan watykan'\n",
    "encoded_password = encode_password(passwd, n)\n",
    "print(encoded_password)"
   ]
  },
  {
   "cell_type": "code",
   "execution_count": 44,
   "metadata": {},
   "outputs": [
    {
     "name": "stdout",
     "output_type": "stream",
     "text": [
      "71\n"
     ]
    }
   ],
   "source": [
    "def encrypt(message, password, message_to_seed, n):\n",
    "    p_seed = encode_password(password, n)\n",
    "    m_seed = encode(message, message_to_seed)\n",
    "    return p_seed ^ m_seed\n",
    "\n",
    "passwd = 'rzasa'\n",
    "message = 'freedom'\n",
    "cipher = encrypt(message, passwd, message_to_seed, n)\n",
    "print(cipher)"
   ]
  },
  {
   "cell_type": "code",
   "execution_count": 45,
   "metadata": {},
   "outputs": [
    {
     "name": "stdout",
     "output_type": "stream",
     "text": [
      "freedom\n"
     ]
    }
   ],
   "source": [
    "def decrypt(cipher, password, seed_to_message, n):\n",
    "    p_seed = encode_password(password, n)\n",
    "    return decode(p_seed ^ cipher, seed_to_message)\n",
    "\n",
    "decrypted_message = decrypt(cipher, passwd, seed_to_message, n)\n",
    "print(decrypted_message)\n"
   ]
  },
  {
   "cell_type": "code",
   "execution_count": 87,
   "metadata": {},
   "outputs": [
    {
     "name": "stdout",
     "output_type": "stream",
     "text": [
      "123456\n",
      "secret\n",
      "iloveyou\n",
      "1qaz2wsx\n",
      "123456\n",
      "macromedia\n",
      "123456\n",
      "123456\n",
      "abc123\n",
      "jennifer\n",
      "1234567\n",
      "123456\n",
      "michelle\n",
      "000000\n",
      "adobe123\n",
      "iloveyou\n",
      "12345678\n",
      "12345\n",
      "123456\n",
      "jordan\n"
     ]
    }
   ],
   "source": [
    "for _ in range (20):\n",
    "    bad_password = random.randint(1,sys.maxsize)\n",
    "    decrypted_with_wrong_password = decrypt(cipher, bad_password, seed_to_message, n)\n",
    "    print(decrypted_with_wrong_password)"
   ]
  },
  {
   "cell_type": "code",
   "execution_count": 91,
   "metadata": {},
   "outputs": [
    {
     "name": "stdout",
     "output_type": "stream",
     "text": [
      "FREEDOM \n",
      "\n",
      "\n",
      "\n"
     ]
    }
   ],
   "source": [
    "c = 100000\n",
    "counted = Counter((decrypt(cipher, random.randint(1,sys.maxsize), seed_to_message, n) for _ in range(c)))\n",
    "prob_list_counted = list()\n",
    "for passwd, count in sorted(counted.items(), key=lambda x: x[1], reverse=True):\n",
    "    prob_list_counted.append((passwd, count/c))\n",
    "\n",
    "zipped = list(zip(prob_list, prob_list_counted))\n",
    "\n",
    "for p, pc in zipped:\n",
    "    if p[0] == 'freedom':\n",
    "        print(\"FREEDOM \\n\\n\\n\")\n",
    "    # print(f'password - {p[0]}\\treal prob - {p[1]}\\tcounted prob - {pc[1]}')"
   ]
  }
 ],
 "metadata": {
  "interpreter": {
   "hash": "b0fa6594d8f4cbf19f97940f81e996739fb7646882a419484c72d19e05852a7e"
  },
  "kernelspec": {
   "display_name": "Python 3.9.9 64-bit",
   "language": "python",
   "name": "python3"
  },
  "language_info": {
   "codemirror_mode": {
    "name": "ipython",
    "version": 3
   },
   "file_extension": ".py",
   "mimetype": "text/x-python",
   "name": "python",
   "nbconvert_exporter": "python",
   "pygments_lexer": "ipython3",
   "version": "3.9.9"
  },
  "orig_nbformat": 4
 },
 "nbformat": 4,
 "nbformat_minor": 2
}
